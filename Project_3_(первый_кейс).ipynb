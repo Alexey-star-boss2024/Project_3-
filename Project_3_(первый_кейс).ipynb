{
  "cells": [
    {
      "cell_type": "markdown",
      "source": [
        "## Запуск библиотек"
      ],
      "metadata": {
        "id": "GOvFPdbSlj_A"
      }
    },
    {
      "cell_type": "code",
      "source": [
        "pip install sklearn # при необходимости устанавливаем"
      ],
      "metadata": {
        "colab": {
          "base_uri": "https://localhost:8080/"
        },
        "id": "r7IobmE6nYlD",
        "outputId": "cd95795e-643d-4069-ba17-63a9bfaadfbd"
      },
      "execution_count": 4,
      "outputs": [
        {
          "output_type": "stream",
          "name": "stdout",
          "text": [
            "Collecting sklearn\n",
            "  Using cached sklearn-0.0.post12.tar.gz (2.6 kB)\n",
            "  \u001b[1;31merror\u001b[0m: \u001b[1msubprocess-exited-with-error\u001b[0m\n",
            "  \n",
            "  \u001b[31m×\u001b[0m \u001b[32mpython setup.py egg_info\u001b[0m did not run successfully.\n",
            "  \u001b[31m│\u001b[0m exit code: \u001b[1;36m1\u001b[0m\n",
            "  \u001b[31m╰─>\u001b[0m See above for output.\n",
            "  \n",
            "  \u001b[1;35mnote\u001b[0m: This error originates from a subprocess, and is likely not a problem with pip.\n",
            "  Preparing metadata (setup.py) ... \u001b[?25l\u001b[?25herror\n",
            "\u001b[1;31merror\u001b[0m: \u001b[1mmetadata-generation-failed\u001b[0m\n",
            "\n",
            "\u001b[31m×\u001b[0m Encountered error while generating package metadata.\n",
            "\u001b[31m╰─>\u001b[0m See above for output.\n",
            "\n",
            "\u001b[1;35mnote\u001b[0m: This is an issue with the package mentioned above, not pip.\n",
            "\u001b[1;36mhint\u001b[0m: See above for details.\n"
          ]
        }
      ]
    },
    {
      "cell_type": "code",
      "source": [
        "# для нормализации, стандартизации\n",
        "from sklearn import preprocessing"
      ],
      "metadata": {
        "id": "RsMOX6Jny-UF"
      },
      "execution_count": 5,
      "outputs": []
    },
    {
      "cell_type": "code",
      "source": [
        "# импортируем библиотеки модели для создания и обучения модели\n",
        "from sklearn.ensemble import RandomForestRegressor"
      ],
      "metadata": {
        "id": "iVJoh4uKw9jV"
      },
      "execution_count": 6,
      "outputs": []
    },
    {
      "cell_type": "code",
      "source": [
        "# импортируем библиотеки для оценки точности модели\n",
        "from sklearn import metrics"
      ],
      "metadata": {
        "id": "rEOX07DJsUzT"
      },
      "execution_count": 7,
      "outputs": []
    },
    {
      "cell_type": "code",
      "source": [
        "# импортируем библиотеки для разделения датасета\n",
        "from sklearn.model_selection import train_test_split"
      ],
      "metadata": {
        "id": "wbEutaVarNza"
      },
      "execution_count": 8,
      "outputs": []
    },
    {
      "cell_type": "markdown",
      "source": [
        "# Ознакомление с данными"
      ],
      "metadata": {
        "id": "jKbrzw3Oj7Dw"
      }
    },
    {
      "cell_type": "markdown",
      "source": [
        "Работаем с датасетом, в котором содержатся сведения о 515 000 отзывов на отели Европы. Модель, которую вы будете обучать, должна предсказывать рейтинг отеля по данным сайта Booking на основе имеющихся в датасете данных. Изученные нами навыки разведывательного анализа помогут улучшить модель."
      ],
      "metadata": {
        "id": "N8O5pEju1GK1"
      }
    },
    {
      "cell_type": "markdown",
      "source": [
        "Скачайте файл hotels.csv и загляните в него."
      ],
      "metadata": {
        "id": "LE40q38d1ZrU"
      }
    },
    {
      "cell_type": "markdown",
      "source": [
        "Первоначальная версия датасета содержит 17 полей со следующей информацией:\n",
        "- hotel_address — адрес отеля;\n",
        "- review_date — дата, когда рецензент разместил соответствующий отзыв;\n",
        "- average_score — средний балл отеля, рассчитанный на основе последнего\n",
        "комментария за последний год;\n",
        "- hotel_name — название отеля;\n",
        "- reviewer_nationality — страна рецензента;\n",
        "- negative_review — отрицательный отзыв, который рецензент дал отелю;\n",
        "- review_total_negative_word_counts — общее количество слов в отрицательном отзыв;\n",
        "- positive_review — положительный отзыв, который рецензент дал отелю;\n",
        "- review_total_positive_word_counts — общее количество слов в положительном отзыве.\n",
        "- reviewer_score — оценка, которую рецензент поставил отелю на основе своего опыта;\n",
        "- total_number_of_reviews_reviewer_has_given — количество отзывов, которые рецензенты дали в прошлом;\n",
        "- total_number_of_reviews — общее количество действительных отзывов об отеле;\n",
        "- tags — теги, которые рецензент дал отелю;\n",
        "- days_since_review — количество дней между датой проверки и датой очистки;\n",
        "- additional_number_of_scoring — есть также некоторые гости, которые просто поставили оценку сервису, но не оставили отзыв. Это число указывает, сколько там действительных оценок без проверки.\n",
        "- lat — географическая широта отеля;\n",
        "- lng — географическая долгота отеля.\n"
      ],
      "metadata": {
        "id": "BQO846R51b-z"
      }
    },
    {
      "cell_type": "code",
      "source": [
        "import pandas as pd\n",
        "\n",
        "hotels = pd.read_csv('/content/hotels.csv')\n",
        "hotels.head()"
      ],
      "metadata": {
        "colab": {
          "base_uri": "https://localhost:8080/",
          "height": 677
        },
        "id": "ca7AvAnZZel9",
        "outputId": "320ca28a-28e8-4285-ea33-7c33719cbbad"
      },
      "execution_count": 9,
      "outputs": [
        {
          "output_type": "execute_result",
          "data": {
            "text/plain": [
              "                                       hotel_address  \\\n",
              "0  Stratton Street Mayfair Westminster Borough Lo...   \n",
              "1  130 134 Southampton Row Camden London WC1B 5AF...   \n",
              "2   151 bis Rue de Rennes 6th arr 75006 Paris France   \n",
              "3  216 Avenue Jean Jaures 19th arr 75019 Paris Fr...   \n",
              "4          Molenwerf 1 1014 AG Amsterdam Netherlands   \n",
              "\n",
              "   additional_number_of_scoring review_date  average_score  \\\n",
              "0                           581   2/19/2016            8.4   \n",
              "1                           299   1/12/2017            8.3   \n",
              "2                            32  10/18/2016            8.9   \n",
              "3                            34   9/22/2015            7.5   \n",
              "4                           914    3/5/2016            8.5   \n",
              "\n",
              "                                  hotel_name reviewer_nationality  \\\n",
              "0                         The May Fair Hotel      United Kingdom    \n",
              "1            Mercure London Bloomsbury Hotel      United Kingdom    \n",
              "2          Legend Saint Germain by Elegancia               China    \n",
              "3  Mercure Paris 19 Philharmonie La Villette      United Kingdom    \n",
              "4                Golden Tulip Amsterdam West              Poland    \n",
              "\n",
              "       negative_review  review_total_negative_word_counts  \\\n",
              "0             Leaving                                   3   \n",
              "1       poor breakfast                                  3   \n",
              "2   No kettle in room                                   6   \n",
              "3          No Negative                                  0   \n",
              "4         Torn sheets                                   4   \n",
              "\n",
              "   total_number_of_reviews                                    positive_review  \\\n",
              "0                     1994                                 Staff were amazing   \n",
              "1                     1361                                           location   \n",
              "2                      406                                        No Positive   \n",
              "3                      607   Friendly staff quiet comfortable room spotles...   \n",
              "4                     7586   The staff was very friendly and helpful Break...   \n",
              "\n",
              "   review_total_positive_word_counts  \\\n",
              "0                                  4   \n",
              "1                                  2   \n",
              "2                                  0   \n",
              "3                                 11   \n",
              "4                                 20   \n",
              "\n",
              "   total_number_of_reviews_reviewer_has_given  reviewer_score  \\\n",
              "0                                           7            10.0   \n",
              "1                                          14             6.3   \n",
              "2                                          14             7.5   \n",
              "3                                           8            10.0   \n",
              "4                                          10             9.6   \n",
              "\n",
              "                                                tags days_since_review  \\\n",
              "0  [' Leisure trip ', ' Couple ', ' Studio Suite ...           531 day   \n",
              "1  [' Business trip ', ' Couple ', ' Standard Dou...           203 day   \n",
              "2  [' Leisure trip ', ' Solo traveler ', ' Modern...           289 day   \n",
              "3  [' Leisure trip ', ' Solo traveler ', ' Standa...           681 day   \n",
              "4  [' Business trip ', ' Couple ', ' Standard Dou...           516 day   \n",
              "\n",
              "         lat       lng  \n",
              "0  51.507894 -0.143671  \n",
              "1  51.521009 -0.123097  \n",
              "2  48.845377  2.325643  \n",
              "3  48.888697  2.394540  \n",
              "4  52.385601  4.847060  "
            ],
            "text/html": [
              "\n",
              "  <div id=\"df-f550a3d8-533d-45b7-bf91-325b69149828\" class=\"colab-df-container\">\n",
              "    <div>\n",
              "<style scoped>\n",
              "    .dataframe tbody tr th:only-of-type {\n",
              "        vertical-align: middle;\n",
              "    }\n",
              "\n",
              "    .dataframe tbody tr th {\n",
              "        vertical-align: top;\n",
              "    }\n",
              "\n",
              "    .dataframe thead th {\n",
              "        text-align: right;\n",
              "    }\n",
              "</style>\n",
              "<table border=\"1\" class=\"dataframe\">\n",
              "  <thead>\n",
              "    <tr style=\"text-align: right;\">\n",
              "      <th></th>\n",
              "      <th>hotel_address</th>\n",
              "      <th>additional_number_of_scoring</th>\n",
              "      <th>review_date</th>\n",
              "      <th>average_score</th>\n",
              "      <th>hotel_name</th>\n",
              "      <th>reviewer_nationality</th>\n",
              "      <th>negative_review</th>\n",
              "      <th>review_total_negative_word_counts</th>\n",
              "      <th>total_number_of_reviews</th>\n",
              "      <th>positive_review</th>\n",
              "      <th>review_total_positive_word_counts</th>\n",
              "      <th>total_number_of_reviews_reviewer_has_given</th>\n",
              "      <th>reviewer_score</th>\n",
              "      <th>tags</th>\n",
              "      <th>days_since_review</th>\n",
              "      <th>lat</th>\n",
              "      <th>lng</th>\n",
              "    </tr>\n",
              "  </thead>\n",
              "  <tbody>\n",
              "    <tr>\n",
              "      <th>0</th>\n",
              "      <td>Stratton Street Mayfair Westminster Borough Lo...</td>\n",
              "      <td>581</td>\n",
              "      <td>2/19/2016</td>\n",
              "      <td>8.4</td>\n",
              "      <td>The May Fair Hotel</td>\n",
              "      <td>United Kingdom</td>\n",
              "      <td>Leaving</td>\n",
              "      <td>3</td>\n",
              "      <td>1994</td>\n",
              "      <td>Staff were amazing</td>\n",
              "      <td>4</td>\n",
              "      <td>7</td>\n",
              "      <td>10.0</td>\n",
              "      <td>[' Leisure trip ', ' Couple ', ' Studio Suite ...</td>\n",
              "      <td>531 day</td>\n",
              "      <td>51.507894</td>\n",
              "      <td>-0.143671</td>\n",
              "    </tr>\n",
              "    <tr>\n",
              "      <th>1</th>\n",
              "      <td>130 134 Southampton Row Camden London WC1B 5AF...</td>\n",
              "      <td>299</td>\n",
              "      <td>1/12/2017</td>\n",
              "      <td>8.3</td>\n",
              "      <td>Mercure London Bloomsbury Hotel</td>\n",
              "      <td>United Kingdom</td>\n",
              "      <td>poor breakfast</td>\n",
              "      <td>3</td>\n",
              "      <td>1361</td>\n",
              "      <td>location</td>\n",
              "      <td>2</td>\n",
              "      <td>14</td>\n",
              "      <td>6.3</td>\n",
              "      <td>[' Business trip ', ' Couple ', ' Standard Dou...</td>\n",
              "      <td>203 day</td>\n",
              "      <td>51.521009</td>\n",
              "      <td>-0.123097</td>\n",
              "    </tr>\n",
              "    <tr>\n",
              "      <th>2</th>\n",
              "      <td>151 bis Rue de Rennes 6th arr 75006 Paris France</td>\n",
              "      <td>32</td>\n",
              "      <td>10/18/2016</td>\n",
              "      <td>8.9</td>\n",
              "      <td>Legend Saint Germain by Elegancia</td>\n",
              "      <td>China</td>\n",
              "      <td>No kettle in room</td>\n",
              "      <td>6</td>\n",
              "      <td>406</td>\n",
              "      <td>No Positive</td>\n",
              "      <td>0</td>\n",
              "      <td>14</td>\n",
              "      <td>7.5</td>\n",
              "      <td>[' Leisure trip ', ' Solo traveler ', ' Modern...</td>\n",
              "      <td>289 day</td>\n",
              "      <td>48.845377</td>\n",
              "      <td>2.325643</td>\n",
              "    </tr>\n",
              "    <tr>\n",
              "      <th>3</th>\n",
              "      <td>216 Avenue Jean Jaures 19th arr 75019 Paris Fr...</td>\n",
              "      <td>34</td>\n",
              "      <td>9/22/2015</td>\n",
              "      <td>7.5</td>\n",
              "      <td>Mercure Paris 19 Philharmonie La Villette</td>\n",
              "      <td>United Kingdom</td>\n",
              "      <td>No Negative</td>\n",
              "      <td>0</td>\n",
              "      <td>607</td>\n",
              "      <td>Friendly staff quiet comfortable room spotles...</td>\n",
              "      <td>11</td>\n",
              "      <td>8</td>\n",
              "      <td>10.0</td>\n",
              "      <td>[' Leisure trip ', ' Solo traveler ', ' Standa...</td>\n",
              "      <td>681 day</td>\n",
              "      <td>48.888697</td>\n",
              "      <td>2.394540</td>\n",
              "    </tr>\n",
              "    <tr>\n",
              "      <th>4</th>\n",
              "      <td>Molenwerf 1 1014 AG Amsterdam Netherlands</td>\n",
              "      <td>914</td>\n",
              "      <td>3/5/2016</td>\n",
              "      <td>8.5</td>\n",
              "      <td>Golden Tulip Amsterdam West</td>\n",
              "      <td>Poland</td>\n",
              "      <td>Torn sheets</td>\n",
              "      <td>4</td>\n",
              "      <td>7586</td>\n",
              "      <td>The staff was very friendly and helpful Break...</td>\n",
              "      <td>20</td>\n",
              "      <td>10</td>\n",
              "      <td>9.6</td>\n",
              "      <td>[' Business trip ', ' Couple ', ' Standard Dou...</td>\n",
              "      <td>516 day</td>\n",
              "      <td>52.385601</td>\n",
              "      <td>4.847060</td>\n",
              "    </tr>\n",
              "  </tbody>\n",
              "</table>\n",
              "</div>\n",
              "    <div class=\"colab-df-buttons\">\n",
              "\n",
              "  <div class=\"colab-df-container\">\n",
              "    <button class=\"colab-df-convert\" onclick=\"convertToInteractive('df-f550a3d8-533d-45b7-bf91-325b69149828')\"\n",
              "            title=\"Convert this dataframe to an interactive table.\"\n",
              "            style=\"display:none;\">\n",
              "\n",
              "  <svg xmlns=\"http://www.w3.org/2000/svg\" height=\"24px\" viewBox=\"0 -960 960 960\">\n",
              "    <path d=\"M120-120v-720h720v720H120Zm60-500h600v-160H180v160Zm220 220h160v-160H400v160Zm0 220h160v-160H400v160ZM180-400h160v-160H180v160Zm440 0h160v-160H620v160ZM180-180h160v-160H180v160Zm440 0h160v-160H620v160Z\"/>\n",
              "  </svg>\n",
              "    </button>\n",
              "\n",
              "  <style>\n",
              "    .colab-df-container {\n",
              "      display:flex;\n",
              "      gap: 12px;\n",
              "    }\n",
              "\n",
              "    .colab-df-convert {\n",
              "      background-color: #E8F0FE;\n",
              "      border: none;\n",
              "      border-radius: 50%;\n",
              "      cursor: pointer;\n",
              "      display: none;\n",
              "      fill: #1967D2;\n",
              "      height: 32px;\n",
              "      padding: 0 0 0 0;\n",
              "      width: 32px;\n",
              "    }\n",
              "\n",
              "    .colab-df-convert:hover {\n",
              "      background-color: #E2EBFA;\n",
              "      box-shadow: 0px 1px 2px rgba(60, 64, 67, 0.3), 0px 1px 3px 1px rgba(60, 64, 67, 0.15);\n",
              "      fill: #174EA6;\n",
              "    }\n",
              "\n",
              "    .colab-df-buttons div {\n",
              "      margin-bottom: 4px;\n",
              "    }\n",
              "\n",
              "    [theme=dark] .colab-df-convert {\n",
              "      background-color: #3B4455;\n",
              "      fill: #D2E3FC;\n",
              "    }\n",
              "\n",
              "    [theme=dark] .colab-df-convert:hover {\n",
              "      background-color: #434B5C;\n",
              "      box-shadow: 0px 1px 3px 1px rgba(0, 0, 0, 0.15);\n",
              "      filter: drop-shadow(0px 1px 2px rgba(0, 0, 0, 0.3));\n",
              "      fill: #FFFFFF;\n",
              "    }\n",
              "  </style>\n",
              "\n",
              "    <script>\n",
              "      const buttonEl =\n",
              "        document.querySelector('#df-f550a3d8-533d-45b7-bf91-325b69149828 button.colab-df-convert');\n",
              "      buttonEl.style.display =\n",
              "        google.colab.kernel.accessAllowed ? 'block' : 'none';\n",
              "\n",
              "      async function convertToInteractive(key) {\n",
              "        const element = document.querySelector('#df-f550a3d8-533d-45b7-bf91-325b69149828');\n",
              "        const dataTable =\n",
              "          await google.colab.kernel.invokeFunction('convertToInteractive',\n",
              "                                                    [key], {});\n",
              "        if (!dataTable) return;\n",
              "\n",
              "        const docLinkHtml = 'Like what you see? Visit the ' +\n",
              "          '<a target=\"_blank\" href=https://colab.research.google.com/notebooks/data_table.ipynb>data table notebook</a>'\n",
              "          + ' to learn more about interactive tables.';\n",
              "        element.innerHTML = '';\n",
              "        dataTable['output_type'] = 'display_data';\n",
              "        await google.colab.output.renderOutput(dataTable, element);\n",
              "        const docLink = document.createElement('div');\n",
              "        docLink.innerHTML = docLinkHtml;\n",
              "        element.appendChild(docLink);\n",
              "      }\n",
              "    </script>\n",
              "  </div>\n",
              "\n",
              "\n",
              "    <div id=\"df-a7ff2d8b-8cc2-4792-9a57-dc05a132ea71\">\n",
              "      <button class=\"colab-df-quickchart\" onclick=\"quickchart('df-a7ff2d8b-8cc2-4792-9a57-dc05a132ea71')\"\n",
              "                title=\"Suggest charts\"\n",
              "                style=\"display:none;\">\n",
              "\n",
              "<svg xmlns=\"http://www.w3.org/2000/svg\" height=\"24px\"viewBox=\"0 0 24 24\"\n",
              "     width=\"24px\">\n",
              "    <g>\n",
              "        <path d=\"M19 3H5c-1.1 0-2 .9-2 2v14c0 1.1.9 2 2 2h14c1.1 0 2-.9 2-2V5c0-1.1-.9-2-2-2zM9 17H7v-7h2v7zm4 0h-2V7h2v10zm4 0h-2v-4h2v4z\"/>\n",
              "    </g>\n",
              "</svg>\n",
              "      </button>\n",
              "\n",
              "<style>\n",
              "  .colab-df-quickchart {\n",
              "      --bg-color: #E8F0FE;\n",
              "      --fill-color: #1967D2;\n",
              "      --hover-bg-color: #E2EBFA;\n",
              "      --hover-fill-color: #174EA6;\n",
              "      --disabled-fill-color: #AAA;\n",
              "      --disabled-bg-color: #DDD;\n",
              "  }\n",
              "\n",
              "  [theme=dark] .colab-df-quickchart {\n",
              "      --bg-color: #3B4455;\n",
              "      --fill-color: #D2E3FC;\n",
              "      --hover-bg-color: #434B5C;\n",
              "      --hover-fill-color: #FFFFFF;\n",
              "      --disabled-bg-color: #3B4455;\n",
              "      --disabled-fill-color: #666;\n",
              "  }\n",
              "\n",
              "  .colab-df-quickchart {\n",
              "    background-color: var(--bg-color);\n",
              "    border: none;\n",
              "    border-radius: 50%;\n",
              "    cursor: pointer;\n",
              "    display: none;\n",
              "    fill: var(--fill-color);\n",
              "    height: 32px;\n",
              "    padding: 0;\n",
              "    width: 32px;\n",
              "  }\n",
              "\n",
              "  .colab-df-quickchart:hover {\n",
              "    background-color: var(--hover-bg-color);\n",
              "    box-shadow: 0 1px 2px rgba(60, 64, 67, 0.3), 0 1px 3px 1px rgba(60, 64, 67, 0.15);\n",
              "    fill: var(--button-hover-fill-color);\n",
              "  }\n",
              "\n",
              "  .colab-df-quickchart-complete:disabled,\n",
              "  .colab-df-quickchart-complete:disabled:hover {\n",
              "    background-color: var(--disabled-bg-color);\n",
              "    fill: var(--disabled-fill-color);\n",
              "    box-shadow: none;\n",
              "  }\n",
              "\n",
              "  .colab-df-spinner {\n",
              "    border: 2px solid var(--fill-color);\n",
              "    border-color: transparent;\n",
              "    border-bottom-color: var(--fill-color);\n",
              "    animation:\n",
              "      spin 1s steps(1) infinite;\n",
              "  }\n",
              "\n",
              "  @keyframes spin {\n",
              "    0% {\n",
              "      border-color: transparent;\n",
              "      border-bottom-color: var(--fill-color);\n",
              "      border-left-color: var(--fill-color);\n",
              "    }\n",
              "    20% {\n",
              "      border-color: transparent;\n",
              "      border-left-color: var(--fill-color);\n",
              "      border-top-color: var(--fill-color);\n",
              "    }\n",
              "    30% {\n",
              "      border-color: transparent;\n",
              "      border-left-color: var(--fill-color);\n",
              "      border-top-color: var(--fill-color);\n",
              "      border-right-color: var(--fill-color);\n",
              "    }\n",
              "    40% {\n",
              "      border-color: transparent;\n",
              "      border-right-color: var(--fill-color);\n",
              "      border-top-color: var(--fill-color);\n",
              "    }\n",
              "    60% {\n",
              "      border-color: transparent;\n",
              "      border-right-color: var(--fill-color);\n",
              "    }\n",
              "    80% {\n",
              "      border-color: transparent;\n",
              "      border-right-color: var(--fill-color);\n",
              "      border-bottom-color: var(--fill-color);\n",
              "    }\n",
              "    90% {\n",
              "      border-color: transparent;\n",
              "      border-bottom-color: var(--fill-color);\n",
              "    }\n",
              "  }\n",
              "</style>\n",
              "\n",
              "      <script>\n",
              "        async function quickchart(key) {\n",
              "          const quickchartButtonEl =\n",
              "            document.querySelector('#' + key + ' button');\n",
              "          quickchartButtonEl.disabled = true;  // To prevent multiple clicks.\n",
              "          quickchartButtonEl.classList.add('colab-df-spinner');\n",
              "          try {\n",
              "            const charts = await google.colab.kernel.invokeFunction(\n",
              "                'suggestCharts', [key], {});\n",
              "          } catch (error) {\n",
              "            console.error('Error during call to suggestCharts:', error);\n",
              "          }\n",
              "          quickchartButtonEl.classList.remove('colab-df-spinner');\n",
              "          quickchartButtonEl.classList.add('colab-df-quickchart-complete');\n",
              "        }\n",
              "        (() => {\n",
              "          let quickchartButtonEl =\n",
              "            document.querySelector('#df-a7ff2d8b-8cc2-4792-9a57-dc05a132ea71 button');\n",
              "          quickchartButtonEl.style.display =\n",
              "            google.colab.kernel.accessAllowed ? 'block' : 'none';\n",
              "        })();\n",
              "      </script>\n",
              "    </div>\n",
              "    </div>\n",
              "  </div>\n"
            ],
            "application/vnd.google.colaboratory.intrinsic+json": {
              "type": "dataframe",
              "variable_name": "hotels"
            }
          },
          "metadata": {},
          "execution_count": 9
        }
      ]
    },
    {
      "cell_type": "markdown",
      "source": [],
      "metadata": {
        "id": "7_m98JwAlTiB"
      }
    },
    {
      "cell_type": "markdown",
      "source": [
        "✍ Ответы на вопросы ниже помогут вам лучше сориентироваться в файле, а также покажут некоторые важные особенности, которые необходимо будет учесть при создании модели."
      ],
      "metadata": {
        "id": "mwl1OUkl12ay"
      }
    },
    {
      "cell_type": "markdown",
      "source": [
        "# Анализируем данные таблицы hotels"
      ],
      "metadata": {
        "id": "b1GUthLPf5Gc"
      }
    },
    {
      "cell_type": "markdown",
      "source": [
        "## Задание 2.1"
      ],
      "metadata": {
        "id": "CZ7Gifm8gFyL"
      }
    },
    {
      "cell_type": "markdown",
      "source": [
        "В каких столбцах данные содержат пропущенные значения?"
      ],
      "metadata": {
        "id": "3Sn60T7rgILd"
      }
    },
    {
      "cell_type": "code",
      "source": [
        "hotels.info()"
      ],
      "metadata": {
        "colab": {
          "base_uri": "https://localhost:8080/"
        },
        "id": "pJlchg6hZ3gc",
        "outputId": "90b72fde-f49a-4828-a905-924b31a4e70f"
      },
      "execution_count": 10,
      "outputs": [
        {
          "output_type": "stream",
          "name": "stdout",
          "text": [
            "<class 'pandas.core.frame.DataFrame'>\n",
            "RangeIndex: 386803 entries, 0 to 386802\n",
            "Data columns (total 17 columns):\n",
            " #   Column                                      Non-Null Count   Dtype  \n",
            "---  ------                                      --------------   -----  \n",
            " 0   hotel_address                               386803 non-null  object \n",
            " 1   additional_number_of_scoring                386803 non-null  int64  \n",
            " 2   review_date                                 386803 non-null  object \n",
            " 3   average_score                               386803 non-null  float64\n",
            " 4   hotel_name                                  386803 non-null  object \n",
            " 5   reviewer_nationality                        386803 non-null  object \n",
            " 6   negative_review                             386803 non-null  object \n",
            " 7   review_total_negative_word_counts           386803 non-null  int64  \n",
            " 8   total_number_of_reviews                     386803 non-null  int64  \n",
            " 9   positive_review                             386803 non-null  object \n",
            " 10  review_total_positive_word_counts           386803 non-null  int64  \n",
            " 11  total_number_of_reviews_reviewer_has_given  386803 non-null  int64  \n",
            " 12  reviewer_score                              386803 non-null  float64\n",
            " 13  tags                                        386803 non-null  object \n",
            " 14  days_since_review                           386803 non-null  object \n",
            " 15  lat                                         384355 non-null  float64\n",
            " 16  lng                                         384355 non-null  float64\n",
            "dtypes: float64(4), int64(5), object(8)\n",
            "memory usage: 50.2+ MB\n"
          ]
        }
      ]
    },
    {
      "cell_type": "code",
      "source": [
        "# ищем в столбцах данные, содержащие пропущенные значения\n",
        "hotels.isnull().sum()"
      ],
      "metadata": {
        "colab": {
          "base_uri": "https://localhost:8080/",
          "height": 617
        },
        "id": "b0s1W_42d1xk",
        "outputId": "9d3439e9-93dc-4df9-91fa-c15f906577ed"
      },
      "execution_count": 11,
      "outputs": [
        {
          "output_type": "execute_result",
          "data": {
            "text/plain": [
              "hotel_address                                    0\n",
              "additional_number_of_scoring                     0\n",
              "review_date                                      0\n",
              "average_score                                    0\n",
              "hotel_name                                       0\n",
              "reviewer_nationality                             0\n",
              "negative_review                                  0\n",
              "review_total_negative_word_counts                0\n",
              "total_number_of_reviews                          0\n",
              "positive_review                                  0\n",
              "review_total_positive_word_counts                0\n",
              "total_number_of_reviews_reviewer_has_given       0\n",
              "reviewer_score                                   0\n",
              "tags                                             0\n",
              "days_since_review                                0\n",
              "lat                                           2448\n",
              "lng                                           2448\n",
              "dtype: int64"
            ],
            "text/html": [
              "<div>\n",
              "<style scoped>\n",
              "    .dataframe tbody tr th:only-of-type {\n",
              "        vertical-align: middle;\n",
              "    }\n",
              "\n",
              "    .dataframe tbody tr th {\n",
              "        vertical-align: top;\n",
              "    }\n",
              "\n",
              "    .dataframe thead th {\n",
              "        text-align: right;\n",
              "    }\n",
              "</style>\n",
              "<table border=\"1\" class=\"dataframe\">\n",
              "  <thead>\n",
              "    <tr style=\"text-align: right;\">\n",
              "      <th></th>\n",
              "      <th>0</th>\n",
              "    </tr>\n",
              "  </thead>\n",
              "  <tbody>\n",
              "    <tr>\n",
              "      <th>hotel_address</th>\n",
              "      <td>0</td>\n",
              "    </tr>\n",
              "    <tr>\n",
              "      <th>additional_number_of_scoring</th>\n",
              "      <td>0</td>\n",
              "    </tr>\n",
              "    <tr>\n",
              "      <th>review_date</th>\n",
              "      <td>0</td>\n",
              "    </tr>\n",
              "    <tr>\n",
              "      <th>average_score</th>\n",
              "      <td>0</td>\n",
              "    </tr>\n",
              "    <tr>\n",
              "      <th>hotel_name</th>\n",
              "      <td>0</td>\n",
              "    </tr>\n",
              "    <tr>\n",
              "      <th>reviewer_nationality</th>\n",
              "      <td>0</td>\n",
              "    </tr>\n",
              "    <tr>\n",
              "      <th>negative_review</th>\n",
              "      <td>0</td>\n",
              "    </tr>\n",
              "    <tr>\n",
              "      <th>review_total_negative_word_counts</th>\n",
              "      <td>0</td>\n",
              "    </tr>\n",
              "    <tr>\n",
              "      <th>total_number_of_reviews</th>\n",
              "      <td>0</td>\n",
              "    </tr>\n",
              "    <tr>\n",
              "      <th>positive_review</th>\n",
              "      <td>0</td>\n",
              "    </tr>\n",
              "    <tr>\n",
              "      <th>review_total_positive_word_counts</th>\n",
              "      <td>0</td>\n",
              "    </tr>\n",
              "    <tr>\n",
              "      <th>total_number_of_reviews_reviewer_has_given</th>\n",
              "      <td>0</td>\n",
              "    </tr>\n",
              "    <tr>\n",
              "      <th>reviewer_score</th>\n",
              "      <td>0</td>\n",
              "    </tr>\n",
              "    <tr>\n",
              "      <th>tags</th>\n",
              "      <td>0</td>\n",
              "    </tr>\n",
              "    <tr>\n",
              "      <th>days_since_review</th>\n",
              "      <td>0</td>\n",
              "    </tr>\n",
              "    <tr>\n",
              "      <th>lat</th>\n",
              "      <td>2448</td>\n",
              "    </tr>\n",
              "    <tr>\n",
              "      <th>lng</th>\n",
              "      <td>2448</td>\n",
              "    </tr>\n",
              "  </tbody>\n",
              "</table>\n",
              "</div><br><label><b>dtype:</b> int64</label>"
            ]
          },
          "metadata": {},
          "execution_count": 11
        }
      ]
    },
    {
      "cell_type": "markdown",
      "source": [
        "Только 2 столбца содержат пропуски в данных:\n",
        "* lat;\n",
        "* lng."
      ],
      "metadata": {
        "id": "mqPteuvOf1lk"
      }
    },
    {
      "cell_type": "markdown",
      "source": [
        "Или воспользуемся более лаконичным выводом (т.к. столбцов может быть еще больше в более сложной задаче)"
      ],
      "metadata": {
        "id": "ecIVuUiSkHrg"
      }
    },
    {
      "cell_type": "code",
      "source": [
        "# ищем в столбцах данные, содержащие пропущенные значения (более короткий способ)\n",
        "cols_null = hotels.isnull().sum()\n",
        "cols_null[cols_null > 0]"
      ],
      "metadata": {
        "colab": {
          "base_uri": "https://localhost:8080/",
          "height": 147
        },
        "id": "dGWRH7fv4543",
        "outputId": "0acc54fe-96d0-4156-e302-7e1d4ec428e7"
      },
      "execution_count": 12,
      "outputs": [
        {
          "output_type": "execute_result",
          "data": {
            "text/plain": [
              "lat    2448\n",
              "lng    2448\n",
              "dtype: int64"
            ],
            "text/html": [
              "<div>\n",
              "<style scoped>\n",
              "    .dataframe tbody tr th:only-of-type {\n",
              "        vertical-align: middle;\n",
              "    }\n",
              "\n",
              "    .dataframe tbody tr th {\n",
              "        vertical-align: top;\n",
              "    }\n",
              "\n",
              "    .dataframe thead th {\n",
              "        text-align: right;\n",
              "    }\n",
              "</style>\n",
              "<table border=\"1\" class=\"dataframe\">\n",
              "  <thead>\n",
              "    <tr style=\"text-align: right;\">\n",
              "      <th></th>\n",
              "      <th>0</th>\n",
              "    </tr>\n",
              "  </thead>\n",
              "  <tbody>\n",
              "    <tr>\n",
              "      <th>lat</th>\n",
              "      <td>2448</td>\n",
              "    </tr>\n",
              "    <tr>\n",
              "      <th>lng</th>\n",
              "      <td>2448</td>\n",
              "    </tr>\n",
              "  </tbody>\n",
              "</table>\n",
              "</div><br><label><b>dtype:</b> int64</label>"
            ]
          },
          "metadata": {},
          "execution_count": 12
        }
      ]
    },
    {
      "cell_type": "markdown",
      "source": [
        "## Задание 2.2"
      ],
      "metadata": {
        "id": "vuWohsHmgflG"
      }
    },
    {
      "cell_type": "markdown",
      "source": [
        "В каких столбцах данные хранятся в числовом формате?"
      ],
      "metadata": {
        "id": "QFvlhJy5giZk"
      }
    },
    {
      "cell_type": "code",
      "source": [
        "# ищем в столбцах данные, содержащие числовые значения\n",
        "digit_columns = [col for col in hotels.columns if hotels[col].dtypes != 'object']\n",
        "digit_columns"
      ],
      "metadata": {
        "colab": {
          "base_uri": "https://localhost:8080/"
        },
        "id": "po6-on9UfwWN",
        "outputId": "38ae34f2-a176-4674-b7cb-f9ad6d5cacf2"
      },
      "execution_count": 13,
      "outputs": [
        {
          "output_type": "execute_result",
          "data": {
            "text/plain": [
              "['additional_number_of_scoring',\n",
              " 'average_score',\n",
              " 'review_total_negative_word_counts',\n",
              " 'total_number_of_reviews',\n",
              " 'review_total_positive_word_counts',\n",
              " 'total_number_of_reviews_reviewer_has_given',\n",
              " 'reviewer_score',\n",
              " 'lat',\n",
              " 'lng']"
            ]
          },
          "metadata": {},
          "execution_count": 13
        }
      ]
    },
    {
      "cell_type": "markdown",
      "source": [
        "## Задание 2.3"
      ],
      "metadata": {
        "id": "aFqNxlvgh_PE"
      }
    },
    {
      "cell_type": "markdown",
      "source": [
        "В каких столбцах данные представляют собой строки?"
      ],
      "metadata": {
        "id": "t-5PXlB0h-5T"
      }
    },
    {
      "cell_type": "code",
      "source": [
        "# ищем в столбцах данные, содержащие строковые значения:\n",
        "object_columns = [col for col in hotels.columns if hotels[col].dtypes == 'object']\n",
        "object_columns"
      ],
      "metadata": {
        "colab": {
          "base_uri": "https://localhost:8080/"
        },
        "id": "z9h6kh2ph-DN",
        "outputId": "91a6e8a0-2f17-47c0-e656-cfc92f0e7809"
      },
      "execution_count": 14,
      "outputs": [
        {
          "output_type": "execute_result",
          "data": {
            "text/plain": [
              "['hotel_address',\n",
              " 'review_date',\n",
              " 'hotel_name',\n",
              " 'reviewer_nationality',\n",
              " 'negative_review',\n",
              " 'positive_review',\n",
              " 'tags',\n",
              " 'days_since_review']"
            ]
          },
          "metadata": {},
          "execution_count": 14
        }
      ]
    },
    {
      "cell_type": "markdown",
      "source": [
        "## Задание 2.4"
      ],
      "metadata": {
        "id": "bvkySoIbiqZU"
      }
    },
    {
      "cell_type": "markdown",
      "source": [
        "Напишите признак, представляющий собой дату."
      ],
      "metadata": {
        "id": "-q7X3DJBh0JM"
      }
    },
    {
      "cell_type": "markdown",
      "source": [
        "Ответ к заданию 2.4 ниже:"
      ],
      "metadata": {
        "id": "Yit1ewrqF1Wm"
      }
    },
    {
      "cell_type": "markdown",
      "source": [
        " - Проанализировав таблицу hotels единственным столбцом содержащим формат записи в виде даты и время - является review_date"
      ],
      "metadata": {
        "id": "vAMUT2h5ivLz"
      }
    },
    {
      "cell_type": "markdown",
      "source": [
        "## Задание 3.1"
      ],
      "metadata": {
        "id": "e3Bt0XOlGTTf"
      }
    },
    {
      "cell_type": "markdown",
      "source": [
        "Вопрос для размышления. По какой причине во время обучения модели возникла ошибка?\n",
        "- Модель не может работать с параметрами по умолчанию. Параметры нужно настраивать вручную, а мы этого не делали. (False)\n",
        "\n",
        "- Проблема в названиях столбцов: они слишком длинные, и там используются не только буквы, но и знаки подчёркивания. (False)\n",
        "\n",
        "- Ошибка возникла при обработке столбца со строковыми значениями. Следовательно, для обучения модели все данные должны быть переданы только в числовом формате. (True)"
      ],
      "metadata": {
        "id": "Fq_Z0PhS526P"
      }
    },
    {
      "cell_type": "markdown",
      "source": [
        "## Задание 3.2"
      ],
      "metadata": {
        "id": "oxtrneEsGkll"
      }
    },
    {
      "cell_type": "code",
      "source": [],
      "metadata": {
        "id": "Wr-dXE_WGno7"
      },
      "execution_count": null,
      "outputs": []
    },
    {
      "cell_type": "markdown",
      "source": [
        "0.3"
      ],
      "metadata": {
        "id": "u6F08aQQGqel"
      }
    },
    {
      "cell_type": "markdown",
      "source": [
        "## Задание 4.2"
      ],
      "metadata": {
        "id": "TX9-S-d4u3qu"
      }
    },
    {
      "cell_type": "markdown",
      "source": [
        "Сколько уникальных названий отелей представлено в наборе данных?"
      ],
      "metadata": {
        "id": "HfynH3Lru862"
      }
    },
    {
      "cell_type": "code",
      "source": [
        "num_uniq = hotels['hotel_name'].nunique()\n",
        "print(f'В наборе {num_uniq} уникальных отелей.\\n')"
      ],
      "metadata": {
        "colab": {
          "base_uri": "https://localhost:8080/"
        },
        "id": "TvvlzuQJu4rf",
        "outputId": "95b7ca39-a811-406c-ecaf-32277298ef0f"
      },
      "execution_count": 15,
      "outputs": [
        {
          "output_type": "stream",
          "name": "stdout",
          "text": [
            "В наборе 1492 уникальных отелей.\n",
            "\n"
          ]
        }
      ]
    },
    {
      "cell_type": "markdown",
      "source": [
        "## Задание 4.3"
      ],
      "metadata": {
        "id": "KuIXceuYHQqH"
      }
    },
    {
      "cell_type": "markdown",
      "source": [
        "Ответьте на вопросы о дате размещения отзывов."
      ],
      "metadata": {
        "id": "UOUFLeca8ra4"
      }
    },
    {
      "cell_type": "code",
      "source": [
        "hotels['review_date'] = pd.to_datetime(hotels['review_date'], format='%m/%d/%Y')"
      ],
      "metadata": {
        "id": "Ob91C_11983-"
      },
      "execution_count": 16,
      "outputs": []
    },
    {
      "cell_type": "code",
      "source": [
        "hotels['review_date'].head()"
      ],
      "metadata": {
        "colab": {
          "base_uri": "https://localhost:8080/",
          "height": 241
        },
        "id": "JOxO1nNy-UV4",
        "outputId": "0ac325d1-ca95-43a8-d8e4-f335460701e0"
      },
      "execution_count": 17,
      "outputs": [
        {
          "output_type": "execute_result",
          "data": {
            "text/plain": [
              "0   2016-02-19\n",
              "1   2017-01-12\n",
              "2   2016-10-18\n",
              "3   2015-09-22\n",
              "4   2016-03-05\n",
              "Name: review_date, dtype: datetime64[ns]"
            ],
            "text/html": [
              "<div>\n",
              "<style scoped>\n",
              "    .dataframe tbody tr th:only-of-type {\n",
              "        vertical-align: middle;\n",
              "    }\n",
              "\n",
              "    .dataframe tbody tr th {\n",
              "        vertical-align: top;\n",
              "    }\n",
              "\n",
              "    .dataframe thead th {\n",
              "        text-align: right;\n",
              "    }\n",
              "</style>\n",
              "<table border=\"1\" class=\"dataframe\">\n",
              "  <thead>\n",
              "    <tr style=\"text-align: right;\">\n",
              "      <th></th>\n",
              "      <th>review_date</th>\n",
              "    </tr>\n",
              "  </thead>\n",
              "  <tbody>\n",
              "    <tr>\n",
              "      <th>0</th>\n",
              "      <td>2016-02-19</td>\n",
              "    </tr>\n",
              "    <tr>\n",
              "      <th>1</th>\n",
              "      <td>2017-01-12</td>\n",
              "    </tr>\n",
              "    <tr>\n",
              "      <th>2</th>\n",
              "      <td>2016-10-18</td>\n",
              "    </tr>\n",
              "    <tr>\n",
              "      <th>3</th>\n",
              "      <td>2015-09-22</td>\n",
              "    </tr>\n",
              "    <tr>\n",
              "      <th>4</th>\n",
              "      <td>2016-03-05</td>\n",
              "    </tr>\n",
              "  </tbody>\n",
              "</table>\n",
              "</div><br><label><b>dtype:</b> datetime64[ns]</label>"
            ]
          },
          "metadata": {},
          "execution_count": 17
        }
      ]
    },
    {
      "cell_type": "markdown",
      "source": [
        "- Когда был оставлен самый свежий отзыв? Введите ответ в формате yyyy-mm-dd."
      ],
      "metadata": {
        "id": "H8AsKNQLHZx-"
      }
    },
    {
      "cell_type": "code",
      "source": [
        "hotels['review_date'].max()"
      ],
      "metadata": {
        "colab": {
          "base_uri": "https://localhost:8080/"
        },
        "id": "6aiPAE0O9U5G",
        "outputId": "ebc0284b-f73e-47f6-cd7f-84657adbca45"
      },
      "execution_count": 18,
      "outputs": [
        {
          "output_type": "execute_result",
          "data": {
            "text/plain": [
              "Timestamp('2017-08-03 00:00:00')"
            ]
          },
          "metadata": {},
          "execution_count": 18
        }
      ]
    },
    {
      "cell_type": "markdown",
      "source": [
        "- Когда был оставлен самый первый отзыв? Введите ответ в формате yyyy-mm-dd."
      ],
      "metadata": {
        "id": "OkfS4kLk9BOX"
      }
    },
    {
      "cell_type": "code",
      "source": [
        "hotels['review_date'].min()"
      ],
      "metadata": {
        "colab": {
          "base_uri": "https://localhost:8080/"
        },
        "id": "kziZ1HfE9fki",
        "outputId": "cfb05bfe-8722-424c-954d-e7c79c279d0d"
      },
      "execution_count": 19,
      "outputs": [
        {
          "output_type": "execute_result",
          "data": {
            "text/plain": [
              "Timestamp('2015-08-04 00:00:00')"
            ]
          },
          "metadata": {},
          "execution_count": 19
        }
      ]
    },
    {
      "cell_type": "markdown",
      "source": [
        "## Задание 4.4"
      ],
      "metadata": {
        "id": "E4u6m0cuIkQV"
      }
    },
    {
      "cell_type": "markdown",
      "source": [
        "Сколько уникальных тегов представлено в наборе данных?"
      ],
      "metadata": {
        "id": "FmWC9H6i-3rt"
      }
    },
    {
      "cell_type": "code",
      "source": [
        "hotels['tags'][0]"
      ],
      "metadata": {
        "colab": {
          "base_uri": "https://localhost:8080/",
          "height": 54
        },
        "id": "FTVyPoRD-0no",
        "outputId": "ec451aaf-4dd6-424b-a539-c8de4c7f92b9"
      },
      "execution_count": 20,
      "outputs": [
        {
          "output_type": "execute_result",
          "data": {
            "text/plain": [
              "\"[' Leisure trip ', ' Couple ', ' Studio Suite ', ' Stayed 2 nights ', ' Submitted from a mobile device ']\""
            ],
            "application/vnd.google.colaboratory.intrinsic+json": {
              "type": "string"
            }
          },
          "metadata": {},
          "execution_count": 20
        }
      ]
    },
    {
      "cell_type": "code",
      "source": [
        "# Сколько уникальных тегов представлено в наборе данных?\n",
        "tags = {}\n",
        "for tag_list in hotels['tags']:\n",
        "    for _tag in tag_list[3:-3].split(\" ', ' \"):\n",
        "        if _tag not in tags:\n",
        "            tags[_tag] = 1\n",
        "        else:\n",
        "            tags[_tag] += 1\n",
        "\n",
        "# вывести все теги\n",
        "# print(tags)\n",
        "\n",
        "# вывести количество тегов\n",
        "print(len(tags))"
      ],
      "metadata": {
        "colab": {
          "base_uri": "https://localhost:8080/"
        },
        "id": "dCIHiTU3_CLg",
        "outputId": "3b6d945a-e1c1-4f9b-95da-6180c7ffd4da"
      },
      "execution_count": 21,
      "outputs": [
        {
          "output_type": "stream",
          "name": "stdout",
          "text": [
            "2368\n"
          ]
        }
      ]
    },
    {
      "cell_type": "markdown",
      "source": [
        "## Задание 4.5"
      ],
      "metadata": {
        "id": "BLmI30eHIp11"
      }
    },
    {
      "cell_type": "markdown",
      "source": [
        "Какой тег представлен в наибольшем числе отзывов?"
      ],
      "metadata": {
        "id": "BHMcMR-oAI8n"
      }
    },
    {
      "cell_type": "code",
      "source": [
        "# счётчик\n",
        "tag_cnt = 0\n",
        "\n",
        "# переменная-накопитель - самый частый тег\n",
        "tag_name = ''\n",
        "for _tag in tags:\n",
        "    # если встретили тег \"пожирнее\", переписываем соответствующие переменные:\n",
        "    # сам тег (ключ словаря), и значение ключа (значение ключа)\n",
        "    if tags[_tag] > tag_cnt:\n",
        "        tag_name = _tag\n",
        "        tag_cnt = tags[_tag]\n",
        "print(tag_name, tag_cnt)"
      ],
      "metadata": {
        "colab": {
          "base_uri": "https://localhost:8080/"
        },
        "id": "XLq62kLAALwN",
        "outputId": "7c233d7f-dd01-4fb8-c2c3-d3f585ff1ffe"
      },
      "execution_count": 22,
      "outputs": [
        {
          "output_type": "stream",
          "name": "stdout",
          "text": [
            "Leisure trip 313593\n"
          ]
        }
      ]
    },
    {
      "cell_type": "markdown",
      "source": [
        "## Задание 4.6"
      ],
      "metadata": {
        "id": "GKKkQsTlIuk-"
      }
    },
    {
      "cell_type": "markdown",
      "source": [
        "Из тегов выясните, на сколько ночей чаще всего останавливаются путешественники в отелях."
      ],
      "metadata": {
        "id": "Sfc4EbIPARc_"
      }
    },
    {
      "cell_type": "code",
      "source": [
        "for _tag in tags:\n",
        "    if _tag.lower().find('night') >= 1:\n",
        "    # if a.lower().find('night') > -1:\n",
        "        print(_tag, tags[_tag])"
      ],
      "metadata": {
        "colab": {
          "base_uri": "https://localhost:8080/"
        },
        "id": "lI2eU549AQnm",
        "outputId": "fe3c574f-13d9-4f55-c9da-f31a0cf921cc"
      },
      "execution_count": 23,
      "outputs": [
        {
          "output_type": "stream",
          "name": "stdout",
          "text": [
            "Stayed 2 nights 100263\n",
            "Stayed 1 night 145373\n",
            "Stayed 3 nights 72000\n",
            "Stayed 6 nights 7399\n",
            "Stayed 4 nights 35748\n",
            "Stayed 5 nights 15611\n",
            "Stayed 8 nights 1910\n",
            "Stayed 7 nights 5549\n",
            "Stayed 10 nights 663\n",
            "Stayed 14 nights 184\n",
            "Stayed 19 nights 23\n",
            "Stayed 13 nights 174\n",
            "Stayed 9 nights 966\n",
            "Stayed 17 nights 27\n",
            "Stayed 11 nights 306\n",
            "Stayed 27 nights 10\n",
            "Stayed 12 nights 217\n",
            "Stayed 15 nights 87\n",
            "Stayed 21 nights 19\n",
            "Stayed 18 nights 24\n",
            "Stayed 16 nights 38\n",
            "Stayed 26 nights 6\n",
            "Special Offer Double Room 3 nights minimum 6\n",
            "Stayed 24 nights 5\n",
            "Stayed 30 nights 10\n",
            "Stayed 22 nights 8\n",
            "King Room with Knightsbridge View 8\n",
            "Suite with Knightsbridge View 1\n",
            "Stayed 23 nights 6\n",
            "Stayed 28 nights 7\n",
            "Stayed 20 nights 17\n",
            "Junior Suite Give me the night 4\n",
            "Stayed 25 nights 4\n",
            "Knightsbridge Suite 1\n",
            "Stayed 29 nights 3\n"
          ]
        }
      ]
    },
    {
      "cell_type": "markdown",
      "source": [
        "Делаем вывод: чаше всего останавливаются на одну ночь."
      ],
      "metadata": {
        "id": "xTZ9crUaAntZ"
      }
    },
    {
      "cell_type": "markdown",
      "source": [
        "## Задание 4.7"
      ],
      "metadata": {
        "id": "PAGRoqh-Iyc1"
      }
    },
    {
      "cell_type": "markdown",
      "source": [
        "Какое значение метрики MAPE вам удалось получить на этом этапе?"
      ],
      "metadata": {
        "id": "sVTMMhiNBDhO"
      }
    },
    {
      "cell_type": "code",
      "source": [
        "# убираем признаки которые еще не успели обработать,\n",
        "# модель на признаках с dtypes \"object\" или \"datetime64[ns]\"\" обучаться не будет, просто выберим их и удалим\n",
        "object_columns = [col for col in hotels.columns\n",
        "    if ((hotels[col].dtypes == 'object') |\n",
        "    (hotels[col].dtypes == 'datetime64[ns]'))\n",
        "]\n",
        "hotels.drop(object_columns, axis = 1, inplace=True)\n",
        "\n",
        "# заполняем пропуски самым простым способом\n",
        "hotels = hotels.fillna(0)"
      ],
      "metadata": {
        "id": "kgvRTeDPBCeo"
      },
      "execution_count": 24,
      "outputs": []
    },
    {
      "cell_type": "code",
      "source": [
        "# Разбиваем датафрейм на части, необходимые для обучения и тестирования модели\n",
        "# Х - данные с информацией об отелях, у - целевая переменная (рейтинги отелей)\n",
        "X = hotels.drop(['reviewer_score'], axis = 1)\n",
        "y = hotels['reviewer_score']"
      ],
      "metadata": {
        "id": "aXWQTC4HBKgR"
      },
      "execution_count": 25,
      "outputs": []
    },
    {
      "cell_type": "code",
      "source": [
        "# Наборы данных с меткой \"train\" будут использоваться для обучения модели, \"test\" - для тестирования.\n",
        "# Для тестирования мы будем использовать 25% от исходного датасета.\n",
        "X_train, X_test, y_train, y_test = train_test_split(X, y, test_size=0.25, random_state=42)"
      ],
      "metadata": {
        "id": "V4eThtksBO-P"
      },
      "execution_count": 26,
      "outputs": []
    },
    {
      "cell_type": "code",
      "source": [
        "# Создаём модель\n",
        "regr = RandomForestRegressor(n_estimators=100)\n",
        "\n",
        "# Обучаем модель на тестовом наборе данных\n",
        "regr.fit(X_train, y_train)\n",
        "\n",
        "# Используем обученную модель для предсказания рейтинга отелей в тестовой выборке.\n",
        "# Предсказанные значения записываем в переменную y_pred\n",
        "y_pred = regr.predict(X_test)"
      ],
      "metadata": {
        "id": "-ktRlP6KBSD3"
      },
      "execution_count": 27,
      "outputs": []
    },
    {
      "cell_type": "code",
      "source": [
        "# Сравниваем предсказанные значения (y_pred) с реальными (y_test), и смотрим насколько они отличаются\n",
        "# Метрика называется Mean Absolute Percentage Error (MAPE) и показывает среднюю абсолютную процентную ошибку предсказанных значений от фактических.\n",
        "print('MAPE:', metrics.mean_absolute_percentage_error(y_test, y_pred))"
      ],
      "metadata": {
        "colab": {
          "base_uri": "https://localhost:8080/"
        },
        "id": "uQE11Cg_Bbao",
        "outputId": "cc99d4d4-0700-4556-f39b-0c7ac5ae2940"
      },
      "execution_count": null,
      "outputs": [
        {
          "output_type": "stream",
          "name": "stdout",
          "text": [
            "MAPE: 0.14127661579962594\n"
          ]
        }
      ]
    }
  ],
  "metadata": {
    "kernelspec": {
      "display_name": "Python 3",
      "language": "python",
      "name": "python3"
    },
    "language_info": {
      "codemirror_mode": {
        "name": "ipython",
        "version": 3
      },
      "file_extension": ".py",
      "mimetype": "text/x-python",
      "name": "python",
      "nbconvert_exporter": "python",
      "pygments_lexer": "ipython3",
      "version": "3.10.10"
    },
    "colab": {
      "provenance": []
    }
  },
  "nbformat": 4,
  "nbformat_minor": 0
}